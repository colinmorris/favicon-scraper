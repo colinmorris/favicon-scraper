{
 "cells": [
  {
   "cell_type": "code",
   "execution_count": 61,
   "metadata": {
    "collapsed": true
   },
   "outputs": [],
   "source": [
    "import pandas as pd\n",
    "import os\n",
    "from matplotlib import pyplot as plt\n",
    "%matplotlib inline"
   ]
  },
  {
   "cell_type": "code",
   "execution_count": 62,
   "metadata": {
    "collapsed": true
   },
   "outputs": [],
   "source": [
    "all_favis_dir = '/home/colin/src/favicons/imgs'\n",
    "# Output of filter2.sh script - fnames and types inferred by `file`, separated by tabs\n",
    "#ftypes = '/home/colin/src/favicons/filetypes.txt'"
   ]
  },
  {
   "cell_type": "code",
   "execution_count": 63,
   "metadata": {},
   "outputs": [
    {
     "name": "stdout",
     "output_type": "stream",
     "text": [
      "Loaded df with length 360767\n"
     ]
    }
   ],
   "source": [
    "magpath = '/home/colin/src/favicons/magick.csv'\n",
    "mag = pd.read_csv(magpath, index_col='fname')\n",
    "mag = mag.rename(columns=dict(type='color_mode'))\n",
    "mag['fname'] = mag.index\n",
    "print(\"Loaded df with length {}\".format(len(mag)))"
   ]
  },
  {
   "cell_type": "code",
   "execution_count": 64,
   "metadata": {},
   "outputs": [
    {
     "data": {
      "text/html": [
       "<div>\n",
       "<style>\n",
       "    .dataframe thead tr:only-child th {\n",
       "        text-align: right;\n",
       "    }\n",
       "\n",
       "    .dataframe thead th {\n",
       "        text-align: left;\n",
       "    }\n",
       "\n",
       "    .dataframe tbody tr th {\n",
       "        vertical-align: top;\n",
       "    }\n",
       "</style>\n",
       "<table border=\"1\" class=\"dataframe\">\n",
       "  <thead>\n",
       "    <tr style=\"text-align: right;\">\n",
       "      <th></th>\n",
       "      <th>colorspace</th>\n",
       "      <th>depth</th>\n",
       "      <th>width</th>\n",
       "      <th>height</th>\n",
       "      <th>color_mode</th>\n",
       "      <th>format</th>\n",
       "      <th>nimgs</th>\n",
       "      <th>compression</th>\n",
       "      <th>fname</th>\n",
       "    </tr>\n",
       "    <tr>\n",
       "      <th>fname</th>\n",
       "      <th></th>\n",
       "      <th></th>\n",
       "      <th></th>\n",
       "      <th></th>\n",
       "      <th></th>\n",
       "      <th></th>\n",
       "      <th></th>\n",
       "      <th></th>\n",
       "      <th></th>\n",
       "    </tr>\n",
       "  </thead>\n",
       "  <tbody>\n",
       "    <tr>\n",
       "      <th>000directory.com.ar.ico</th>\n",
       "      <td>sRGB</td>\n",
       "      <td>8</td>\n",
       "      <td>32</td>\n",
       "      <td>32</td>\n",
       "      <td>Palette</td>\n",
       "      <td>PNG</td>\n",
       "      <td>1</td>\n",
       "      <td>Zip</td>\n",
       "      <td>000directory.com.ar.ico</td>\n",
       "    </tr>\n",
       "    <tr>\n",
       "      <th>000webhost.com.ico</th>\n",
       "      <td>sRGB</td>\n",
       "      <td>32</td>\n",
       "      <td>16</td>\n",
       "      <td>16</td>\n",
       "      <td>PaletteAlpha</td>\n",
       "      <td>ICO</td>\n",
       "      <td>5</td>\n",
       "      <td>Undefined</td>\n",
       "      <td>000webhost.com.ico</td>\n",
       "    </tr>\n",
       "    <tr>\n",
       "      <th>001.by.ico</th>\n",
       "      <td>sRGB</td>\n",
       "      <td>32</td>\n",
       "      <td>16</td>\n",
       "      <td>16</td>\n",
       "      <td>PaletteAlpha</td>\n",
       "      <td>ICO</td>\n",
       "      <td>1</td>\n",
       "      <td>Undefined</td>\n",
       "      <td>001.by.ico</td>\n",
       "    </tr>\n",
       "    <tr>\n",
       "      <th>001daima.com.ico</th>\n",
       "      <td>sRGB</td>\n",
       "      <td>32</td>\n",
       "      <td>32</td>\n",
       "      <td>32</td>\n",
       "      <td>TrueColorAlpha</td>\n",
       "      <td>ICO</td>\n",
       "      <td>1</td>\n",
       "      <td>Undefined</td>\n",
       "      <td>001daima.com.ico</td>\n",
       "    </tr>\n",
       "    <tr>\n",
       "      <th>001farm.com.ico</th>\n",
       "      <td>sRGB</td>\n",
       "      <td>32</td>\n",
       "      <td>48</td>\n",
       "      <td>48</td>\n",
       "      <td>TrueColorAlpha</td>\n",
       "      <td>ICO</td>\n",
       "      <td>1</td>\n",
       "      <td>Undefined</td>\n",
       "      <td>001farm.com.ico</td>\n",
       "    </tr>\n",
       "  </tbody>\n",
       "</table>\n",
       "</div>"
      ],
      "text/plain": [
       "                        colorspace  depth  width  height      color_mode  \\\n",
       "fname                                                                      \n",
       "000directory.com.ar.ico       sRGB      8     32      32         Palette   \n",
       "000webhost.com.ico            sRGB     32     16      16    PaletteAlpha   \n",
       "001.by.ico                    sRGB     32     16      16    PaletteAlpha   \n",
       "001daima.com.ico              sRGB     32     32      32  TrueColorAlpha   \n",
       "001farm.com.ico               sRGB     32     48      48  TrueColorAlpha   \n",
       "\n",
       "                        format  nimgs compression                    fname  \n",
       "fname                                                                       \n",
       "000directory.com.ar.ico    PNG      1         Zip  000directory.com.ar.ico  \n",
       "000webhost.com.ico         ICO      5   Undefined       000webhost.com.ico  \n",
       "001.by.ico                 ICO      1   Undefined               001.by.ico  \n",
       "001daima.com.ico           ICO      1   Undefined         001daima.com.ico  \n",
       "001farm.com.ico            ICO      1   Undefined          001farm.com.ico  "
      ]
     },
     "execution_count": 64,
     "metadata": {},
     "output_type": "execute_result"
    }
   ],
   "source": [
    "mag.head()"
   ]
  },
  {
   "cell_type": "code",
   "execution_count": 65,
   "metadata": {
    "collapsed": true
   },
   "outputs": [],
   "source": [
    "sizespath = '/home/colin/src/favicons/file_sizes.txt'\n",
    "with open(sizespath) as f:\n",
    "    fname_to_size = {}\n",
    "    for line in f:\n",
    "        size, fname = line.strip().split()\n",
    "        size = int(size)\n",
    "        fname_to_size[fname] = size"
   ]
  },
  {
   "cell_type": "code",
   "execution_count": 66,
   "metadata": {
    "collapsed": true
   },
   "outputs": [],
   "source": [
    "sizes = pd.Series(fname_to_size)\n",
    "mag['file_size'] = sizes"
   ]
  },
  {
   "cell_type": "code",
   "execution_count": 67,
   "metadata": {},
   "outputs": [
    {
     "name": "stdout",
     "output_type": "stream",
     "text": [
      "Went from 360767 to 360610 rows after filtering out 812 bad magick files\n"
     ]
    }
   ],
   "source": [
    "bad_dir = '/home/colin/src/favicons/badmagicks'\n",
    "bads = set(os.listdir(bad_dir))\n",
    "n = len(mag)\n",
    "mag = mag[~(mag['fname'].isin(bads))]\n",
    "print(\"Went from {} to {} rows after filtering out {} bad magick files\".format(\n",
    "    n, len(mag), len(bads)\n",
    "))"
   ]
  },
  {
   "cell_type": "code",
   "execution_count": 68,
   "metadata": {
    "collapsed": true
   },
   "outputs": [],
   "source": [
    "fnames = mag.index\n",
    "urls = list(map(lambda fname: fname[:-len('.ico')], fnames))\n",
    "mag['url'] = urls\n",
    "\n",
    "def get_tld(url):\n",
    "    return url[url.rfind('.')+1:]\n",
    "mag['tld'] = list(map(get_tld, urls))"
   ]
  },
  {
   "cell_type": "code",
   "execution_count": null,
   "metadata": {
    "collapsed": true
   },
   "outputs": [],
   "source": []
  },
  {
   "cell_type": "code",
   "execution_count": 69,
   "metadata": {
    "collapsed": true
   },
   "outputs": [],
   "source": [
    "outpath = '/home/colin/src/favicons/favicon_metadata.csv'\n",
    "col_order = ['url', 'width', 'height', 'format', 'depth', 'tld', 'fname', 'file_size', \n",
    "             'color_mode', 'colorspace', 'compression', 'nimgs']\n",
    "mag.to_csv(outpath, columns=col_order, index=False)"
   ]
  },
  {
   "cell_type": "code",
   "execution_count": 70,
   "metadata": {},
   "outputs": [
    {
     "data": {
      "text/html": [
       "<div>\n",
       "<style>\n",
       "    .dataframe thead tr:only-child th {\n",
       "        text-align: right;\n",
       "    }\n",
       "\n",
       "    .dataframe thead th {\n",
       "        text-align: left;\n",
       "    }\n",
       "\n",
       "    .dataframe tbody tr th {\n",
       "        vertical-align: top;\n",
       "    }\n",
       "</style>\n",
       "<table border=\"1\" class=\"dataframe\">\n",
       "  <thead>\n",
       "    <tr style=\"text-align: right;\">\n",
       "      <th></th>\n",
       "      <th>colorspace</th>\n",
       "      <th>depth</th>\n",
       "      <th>width</th>\n",
       "      <th>height</th>\n",
       "      <th>color_mode</th>\n",
       "      <th>format</th>\n",
       "      <th>nimgs</th>\n",
       "      <th>compression</th>\n",
       "      <th>fname</th>\n",
       "      <th>file_size</th>\n",
       "      <th>url</th>\n",
       "      <th>tld</th>\n",
       "    </tr>\n",
       "    <tr>\n",
       "      <th>fname</th>\n",
       "      <th></th>\n",
       "      <th></th>\n",
       "      <th></th>\n",
       "      <th></th>\n",
       "      <th></th>\n",
       "      <th></th>\n",
       "      <th></th>\n",
       "      <th></th>\n",
       "      <th></th>\n",
       "      <th></th>\n",
       "      <th></th>\n",
       "      <th></th>\n",
       "    </tr>\n",
       "  </thead>\n",
       "  <tbody>\n",
       "    <tr>\n",
       "      <th>000directory.com.ar.ico</th>\n",
       "      <td>sRGB</td>\n",
       "      <td>8</td>\n",
       "      <td>32</td>\n",
       "      <td>32</td>\n",
       "      <td>Palette</td>\n",
       "      <td>PNG</td>\n",
       "      <td>1</td>\n",
       "      <td>Zip</td>\n",
       "      <td>000directory.com.ar.ico</td>\n",
       "      <td>651</td>\n",
       "      <td>000directory.com.ar</td>\n",
       "      <td>ar</td>\n",
       "    </tr>\n",
       "    <tr>\n",
       "      <th>000webhost.com.ico</th>\n",
       "      <td>sRGB</td>\n",
       "      <td>32</td>\n",
       "      <td>16</td>\n",
       "      <td>16</td>\n",
       "      <td>PaletteAlpha</td>\n",
       "      <td>ICO</td>\n",
       "      <td>5</td>\n",
       "      <td>Undefined</td>\n",
       "      <td>000webhost.com.ico</td>\n",
       "      <td>34494</td>\n",
       "      <td>000webhost.com</td>\n",
       "      <td>com</td>\n",
       "    </tr>\n",
       "    <tr>\n",
       "      <th>001.by.ico</th>\n",
       "      <td>sRGB</td>\n",
       "      <td>32</td>\n",
       "      <td>16</td>\n",
       "      <td>16</td>\n",
       "      <td>PaletteAlpha</td>\n",
       "      <td>ICO</td>\n",
       "      <td>1</td>\n",
       "      <td>Undefined</td>\n",
       "      <td>001.by.ico</td>\n",
       "      <td>1150</td>\n",
       "      <td>001.by</td>\n",
       "      <td>by</td>\n",
       "    </tr>\n",
       "    <tr>\n",
       "      <th>001daima.com.ico</th>\n",
       "      <td>sRGB</td>\n",
       "      <td>32</td>\n",
       "      <td>32</td>\n",
       "      <td>32</td>\n",
       "      <td>TrueColorAlpha</td>\n",
       "      <td>ICO</td>\n",
       "      <td>1</td>\n",
       "      <td>Undefined</td>\n",
       "      <td>001daima.com.ico</td>\n",
       "      <td>4286</td>\n",
       "      <td>001daima.com</td>\n",
       "      <td>com</td>\n",
       "    </tr>\n",
       "    <tr>\n",
       "      <th>001farm.com.ico</th>\n",
       "      <td>sRGB</td>\n",
       "      <td>32</td>\n",
       "      <td>48</td>\n",
       "      <td>48</td>\n",
       "      <td>TrueColorAlpha</td>\n",
       "      <td>ICO</td>\n",
       "      <td>1</td>\n",
       "      <td>Undefined</td>\n",
       "      <td>001farm.com.ico</td>\n",
       "      <td>9662</td>\n",
       "      <td>001farm.com</td>\n",
       "      <td>com</td>\n",
       "    </tr>\n",
       "  </tbody>\n",
       "</table>\n",
       "</div>"
      ],
      "text/plain": [
       "                        colorspace  depth  width  height      color_mode  \\\n",
       "fname                                                                      \n",
       "000directory.com.ar.ico       sRGB      8     32      32         Palette   \n",
       "000webhost.com.ico            sRGB     32     16      16    PaletteAlpha   \n",
       "001.by.ico                    sRGB     32     16      16    PaletteAlpha   \n",
       "001daima.com.ico              sRGB     32     32      32  TrueColorAlpha   \n",
       "001farm.com.ico               sRGB     32     48      48  TrueColorAlpha   \n",
       "\n",
       "                        format  nimgs compression                    fname  \\\n",
       "fname                                                                        \n",
       "000directory.com.ar.ico    PNG      1         Zip  000directory.com.ar.ico   \n",
       "000webhost.com.ico         ICO      5   Undefined       000webhost.com.ico   \n",
       "001.by.ico                 ICO      1   Undefined               001.by.ico   \n",
       "001daima.com.ico           ICO      1   Undefined         001daima.com.ico   \n",
       "001farm.com.ico            ICO      1   Undefined          001farm.com.ico   \n",
       "\n",
       "                         file_size                  url  tld  \n",
       "fname                                                         \n",
       "000directory.com.ar.ico        651  000directory.com.ar   ar  \n",
       "000webhost.com.ico           34494       000webhost.com  com  \n",
       "001.by.ico                    1150               001.by   by  \n",
       "001daima.com.ico              4286         001daima.com  com  \n",
       "001farm.com.ico               9662          001farm.com  com  "
      ]
     },
     "execution_count": 70,
     "metadata": {},
     "output_type": "execute_result"
    }
   ],
   "source": [
    "mag.head()"
   ]
  }
 ],
 "metadata": {
  "kernelspec": {
   "display_name": "Python 3",
   "language": "python",
   "name": "python3"
  },
  "language_info": {
   "codemirror_mode": {
    "name": "ipython",
    "version": 3
   },
   "file_extension": ".py",
   "mimetype": "text/x-python",
   "name": "python",
   "nbconvert_exporter": "python",
   "pygments_lexer": "ipython3",
   "version": "3.5.2"
  }
 },
 "nbformat": 4,
 "nbformat_minor": 2
}
